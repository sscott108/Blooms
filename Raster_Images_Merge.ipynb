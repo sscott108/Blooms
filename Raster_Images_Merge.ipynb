{
 "cells": [
  {
   "cell_type": "code",
   "execution_count": 4,
   "id": "d3a021a8",
   "metadata": {},
   "outputs": [],
   "source": [
    "import rasterio\n",
    "import numpy as np\n",
    "import os\n",
    "import matplotlib.pyplot as plt\n",
    "from rasterio.windows import Window\n",
    "import glob\n",
    "from collections import defaultdict\n",
    "from rasterio.merge import merge"
   ]
  },
  {
   "cell_type": "code",
   "execution_count": 6,
   "id": "f1500890",
   "metadata": {},
   "outputs": [],
   "source": [
    "dategroups = defaultdict(list)\n",
    "image_dir ='chowan'\n",
    "tif_files = glob.glob(os.path.join(image_dir, '*.tif'))\n",
    "for tif_file in tif_files:\n",
    "    filename = os.path.basename(tif_file)\n",
    "    date = filename.split('_')[0]\n",
    "#     print(date)\n",
    "    dategroups[date].append(tif_file)"
   ]
  },
  {
   "cell_type": "code",
   "execution_count": 7,
   "id": "53fa832d",
   "metadata": {},
   "outputs": [],
   "source": [
    "for date, files in dategroups.items():\n",
    "    src_files_to_mosaic = []\n",
    "    for tif_file in files:\n",
    "        src = rasterio.open(tif_file)\n",
    "        src_files_to_mosaic.append(src)\n",
    "        \n",
    "    mosaic, out_transform = merge(src_files_to_mosaic)\n",
    "    \n",
    "    out_meta = src_files_to_mosaic[0].meta.copy()\n",
    "    out_meta.update({\n",
    "        \"driver\": \"GTiff\",\n",
    "        \"height\": mosaic.shape[1],\n",
    "        \"width\": mosaic.shape[2],\n",
    "        \"transform\": out_transform\n",
    "    })\n",
    "    output_path = f'mosaic_{date}.tif'\n",
    "    with rasterio.open(output_path, \"w\", **out_meta) as dest:\n",
    "        dest.write(mosaic)\n",
    "        \n",
    "    for src in src_files_to_mosaic:\n",
    "        src.close()"
   ]
  },
  {
   "cell_type": "code",
   "execution_count": 9,
   "id": "ffadf74a",
   "metadata": {
    "scrolled": true
   },
   "outputs": [
    {
     "name": "stdout",
     "output_type": "stream",
     "text": [
      "(7074, 9594, 3)\n",
      "(19767, 21153, 3)\n",
      "(14158, 11537, 3)\n",
      "(7040, 9557, 3)\n",
      "(4582, 8992, 3)\n",
      "(14955, 16395, 3)\n",
      "(11706, 10613, 3)\n",
      "(14025, 18748, 3)\n"
     ]
    },
    {
     "ename": "KeyboardInterrupt",
     "evalue": "",
     "output_type": "error",
     "traceback": [
      "\u001b[0;31m---------------------------------------------------------------------------\u001b[0m",
      "\u001b[0;31mKeyboardInterrupt\u001b[0m                         Traceback (most recent call last)",
      "Cell \u001b[0;32mIn[9], line 3\u001b[0m\n\u001b[1;32m      1\u001b[0m \u001b[38;5;28;01mfor\u001b[39;00m mosaic_img \u001b[38;5;129;01min\u001b[39;00m os\u001b[38;5;241m.\u001b[39mlistdir(\u001b[38;5;124m'\u001b[39m\u001b[38;5;124mmosaic\u001b[39m\u001b[38;5;124m'\u001b[39m):\n\u001b[1;32m      2\u001b[0m     \u001b[38;5;28;01mwith\u001b[39;00m rasterio\u001b[38;5;241m.\u001b[39mopen(os\u001b[38;5;241m.\u001b[39mpath\u001b[38;5;241m.\u001b[39mjoin(\u001b[38;5;124m'\u001b[39m\u001b[38;5;124mmosaic\u001b[39m\u001b[38;5;124m'\u001b[39m, mosaic_img)) \u001b[38;5;28;01mas\u001b[39;00m rds:\n\u001b[0;32m----> 3\u001b[0m         data \u001b[38;5;241m=\u001b[39m \u001b[43mrds\u001b[49m\u001b[38;5;241;43m.\u001b[39;49m\u001b[43mread\u001b[49m\u001b[43m(\u001b[49m\u001b[43m)\u001b[49m\n\u001b[1;32m      4\u001b[0m         data \u001b[38;5;241m=\u001b[39m np\u001b[38;5;241m.\u001b[39mmoveaxis(data, \u001b[38;5;241m0\u001b[39m,\u001b[38;5;241m2\u001b[39m)\n\u001b[1;32m      5\u001b[0m         img_arr \u001b[38;5;241m=\u001b[39m np\u001b[38;5;241m.\u001b[39marray(data[:,:,:\u001b[38;5;241m3\u001b[39m])\n",
      "\u001b[0;31mKeyboardInterrupt\u001b[0m: "
     ]
    }
   ],
   "source": [
    "for mosaic_img in os.listdir('mosaic'):\n",
    "    with rasterio.open(os.path.join('mosaic', mosaic_img)) as rds:\n",
    "        data = rds.read()\n",
    "        data = np.moveaxis(data, 0,2)\n",
    "        img_arr = np.array(data[:,:,:3])\n",
    "        print(img_arr.shape)\n",
    "#         plt.imshow(img_arr)\n",
    "#         plt.show()"
   ]
  },
  {
   "cell_type": "code",
   "execution_count": null,
   "id": "a31d7747",
   "metadata": {},
   "outputs": [],
   "source": []
  }
 ],
 "metadata": {
  "kernelspec": {
   "display_name": "Python 3 (ipykernel)",
   "language": "python",
   "name": "python3"
  },
  "language_info": {
   "codemirror_mode": {
    "name": "ipython",
    "version": 3
   },
   "file_extension": ".py",
   "mimetype": "text/x-python",
   "name": "python",
   "nbconvert_exporter": "python",
   "pygments_lexer": "ipython3",
   "version": "3.10.9"
  }
 },
 "nbformat": 4,
 "nbformat_minor": 5
}
