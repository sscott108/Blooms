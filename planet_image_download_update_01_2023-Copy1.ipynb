{
 "cells": [
  {
   "cell_type": "markdown",
   "metadata": {},
   "source": [
    "# Walkthrough downloading planet images\n",
    "\n",
    "The following notebook incorporates tutorials on the Planet CLI from the following sources:\n",
    "-  https://github.com/planetlabs/notebooks/blob/master/jupyter-notebooks/data-api-tutorials/planet_python_client_introduction.ipynb\n",
    "- https://github.com/planetlabs/notebooks/blob/master/jupyter-notebooks/orders_api_tutorials/Planet_SDK_Orders_demo.ipynb\n",
    "\n",
    "Please obtain your Planet API key from your Planet account before continuing."
   ]
  },
  {
   "cell_type": "code",
   "execution_count": 1,
   "metadata": {},
   "outputs": [],
   "source": [
    "from datetime import datetime\n",
    "from planet import Auth\n",
    "from planet import Session, DataClient, OrdersClient, data_filter\n",
    "import json\n",
    "import requests\n",
    "import time\n",
    "import os\n",
    "import shutil\n",
    "import cv2 as cv\n",
    "import rasterio\n",
    "from rasterio.windows import Window\n",
    "from pyproj import Transformer\n",
    "import numpy as np\n",
    "import os\n",
    "from os import listdir\n",
    "from os.path import isfile, join\n",
    "np.random.seed(42)\n",
    "\n",
    "import copy\n",
    "import matplotlib\n",
    "import matplotlib.pyplot as plt\n",
    "\n",
    "\n",
    "import pyproj\n",
    "import pickle as pkl\n",
    "import geojson\n",
    "import cv2\n",
    "from PIL import Image, ImageEnhance# We will also create a small helper function to print out JSON with proper indentation.\n",
    "def indent(data):\n",
    "    print(json.dumps(data, indent=2))"
   ]
  },
  {
   "cell_type": "markdown",
   "metadata": {},
   "source": [
    "# *\n",
    "The following code block requires ONE place to enter your API, on the bottom line paste your API where it says `PASTE API KEY HERE`."
   ]
  },
  {
   "cell_type": "code",
   "execution_count": 2,
   "metadata": {},
   "outputs": [],
   "source": [
    "# if your Planet API Key is not set as an environment variable, you can paste it below\n",
    "if os.environ.get('PL_API_KEY', ''):\n",
    "    API_KEY = os.environ.get('PL_API_KEY', '')\n",
    "else:\n",
    "    API_KEY = 'PASTE_YOUR_API_KEY_HERE'\n",
    "\n",
    "client = Auth.from_key(API_KEY)\n",
    "\n",
    "# Setup the session\n",
    "session = requests.Session()\n",
    "\n",
    "# Authenticate\n",
    "session.auth = (API_KEY, \"HIDDEN\")"
   ]
  },
  {
   "cell_type": "markdown",
   "metadata": {},
   "source": [
    "# *\n",
    "The following code block requires the file path to your geojson file, enter the file path and name of your region of interest."
   ]
  },
  {
   "cell_type": "code",
   "execution_count": 3,
   "metadata": {},
   "outputs": [],
   "source": [
    "with open(\"../Downloads/map.geojson\") as f:\n",
    "    geom = json.loads(f.read())"
   ]
  },
  {
   "cell_type": "markdown",
   "metadata": {},
   "source": [
    "# *\n",
    "The following code block is customizable.\n",
    "- `geom_filter`: your geojson region of interset defined above.\n",
    "- `clear_percent_filter`: percentage of clearness in each images\n",
    "- `date_range_filter`: time period of study (`gt`: greater than, `lt`: less than)\n",
    "- `cloud_cover_filter`: filter out clouds"
   ]
  },
  {
   "cell_type": "code",
   "execution_count": 4,
   "metadata": {},
   "outputs": [],
   "source": [
    "item_types = [\"PSScene\"]\n",
    "\n",
    "geom_filter = data_filter.geometry_filter(geom)\n",
    "clear_percent_filter = data_filter.range_filter('clear_percent', 90)\n",
    "date_range_filter = data_filter.date_range_filter(\"acquired\", gt = datetime(month=5, day=15, year=2023), lt = datetime(month=8, day=15, year=2023))\n",
    "cloud_cover_filter = data_filter.range_filter('cloud_cover', None, 0.5)\n",
    "\n",
    "combined_filter = data_filter.and_filter([geom_filter, clear_percent_filter, cloud_cover_filter, date_range_filter])"
   ]
  },
  {
   "cell_type": "code",
   "execution_count": 5,
   "metadata": {},
   "outputs": [],
   "source": [
    "async with Session() as sess:\n",
    "    cl = DataClient(sess)\n",
    "    request = await cl.create_search(name='planet_client_demo',search_filter=combined_filter, item_types=item_types)"
   ]
  },
  {
   "cell_type": "markdown",
   "metadata": {},
   "source": [
    "# Search the Data API\n",
    "# The limit paramter allows us to limit the number of results from our search that are returned.\n",
    "# The default limit is 100. Here, we're setting our limit to the max of 500"
   ]
  },
  {
   "cell_type": "code",
   "execution_count": 6,
   "metadata": {},
   "outputs": [],
   "source": [
    "async with Session() as sess:\n",
    "    cl = DataClient(sess)\n",
    "    items =  cl.run_search(search_id=request['id'], limit=500) \n",
    "    item_list = [i async for i in items]"
   ]
  },
  {
   "cell_type": "markdown",
   "metadata": {},
   "source": [
    "Following block prints all images to be downloaded. (all images that match your filters and contain any match of coordinates in your provided geojson."
   ]
  },
  {
   "cell_type": "code",
   "execution_count": 7,
   "metadata": {
    "scrolled": true
   },
   "outputs": [
    {
     "name": "stdout",
     "output_type": "stream",
     "text": [
      "500\n"
     ]
    }
   ],
   "source": [
    "items = []\n",
    "for item in item_list:\n",
    "#     print(item['id'], item['properties']['item_type'])\n",
    "    items.append(item['id'])\n",
    "print(len(items))"
   ]
  },
  {
   "cell_type": "code",
   "execution_count": 17,
   "metadata": {},
   "outputs": [
    {
     "data": {
      "text/plain": [
       "['assets.basic_analytic_4b:download',\n",
       " 'assets.basic_analytic_4b_rpc:download',\n",
       " 'assets.basic_analytic_4b_xml:download',\n",
       " 'assets.basic_analytic_8b:download',\n",
       " 'assets.basic_analytic_8b_xml:download',\n",
       " 'assets.basic_udm2:download',\n",
       " 'assets.ortho_analytic_4b:download',\n",
       " 'assets.ortho_analytic_4b_sr:download',\n",
       " 'assets.ortho_analytic_4b_xml:download',\n",
       " 'assets.ortho_analytic_8b:download',\n",
       " 'assets.ortho_analytic_8b_sr:download',\n",
       " 'assets.ortho_analytic_8b_xml:download',\n",
       " 'assets.ortho_udm2:download',\n",
       " 'assets.ortho_visual:download']"
      ]
     },
     "execution_count": 17,
     "metadata": {},
     "output_type": "execute_result"
    }
   ],
   "source": [
    "item_list[0]['_permissions']"
   ]
  },
  {
   "cell_type": "code",
   "execution_count": 8,
   "metadata": {},
   "outputs": [],
   "source": [
    "#creates json for order\n",
    "with open('results.json','w') as f:\n",
    "    jsonStr = json.dumps(item_list)\n",
    "    f.write(jsonStr)\n",
    "    f.close()"
   ]
  },
  {
   "cell_type": "markdown",
   "metadata": {},
   "source": [
    "Following code requires your API key again ."
   ]
  },
  {
   "cell_type": "code",
   "execution_count": 10,
   "metadata": {},
   "outputs": [
    {
     "name": "stdout",
     "output_type": "stream",
     "text": [
      "Enter your API key:········\n"
     ]
    }
   ],
   "source": [
    "#order details\n",
    "from getpass import getpass\n",
    "from planet import Auth\n",
    "api_key = getpass('Enter your API key:')\n",
    "\n",
    "auth = Auth.from_key(api_key)"
   ]
  },
  {
   "cell_type": "code",
   "execution_count": 18,
   "metadata": {},
   "outputs": [
    {
     "ename": "SpecificationException",
     "evalue": "bundle - 'basic_analytic_4b' is not one of 'analytic_udm2', 'analytic_3b_udm2', 'analytic_8b_udm2', 'visual', 'basic_analytic_udm2', 'basic_analytic_8b_udm2', 'analytic_sr_udm2', 'analytic_8b_sr_udm2'.",
     "output_type": "error",
     "traceback": [
      "\u001b[0;31m---------------------------------------------------------------------------\u001b[0m",
      "\u001b[0;31mStopIteration\u001b[0m                             Traceback (most recent call last)",
      "File \u001b[0;32m~/anaconda3/lib/python3.10/site-packages/planet/specs.py:144\u001b[0m, in \u001b[0;36mget_match\u001b[0;34m(test_entry, spec_entries, field_name)\u001b[0m\n\u001b[1;32m    143\u001b[0m \u001b[38;5;28;01mtry\u001b[39;00m:\n\u001b[0;32m--> 144\u001b[0m     match \u001b[38;5;241m=\u001b[39m \u001b[38;5;28;43mnext\u001b[39;49m\u001b[43m(\u001b[49m\u001b[43me\u001b[49m\u001b[43m \u001b[49m\u001b[38;5;28;43;01mfor\u001b[39;49;00m\u001b[43m \u001b[49m\u001b[43me\u001b[49m\u001b[43m \u001b[49m\u001b[38;5;129;43;01min\u001b[39;49;00m\u001b[43m \u001b[49m\u001b[43mspec_entries\u001b[49m\n\u001b[1;32m    145\u001b[0m \u001b[43m                 \u001b[49m\u001b[38;5;28;43;01mif\u001b[39;49;00m\u001b[43m \u001b[49m\u001b[43me\u001b[49m\u001b[38;5;241;43m.\u001b[39;49m\u001b[43mlower\u001b[49m\u001b[43m(\u001b[49m\u001b[43m)\u001b[49m\u001b[43m \u001b[49m\u001b[38;5;241;43m==\u001b[39;49m\u001b[43m \u001b[49m\u001b[43mtest_entry\u001b[49m\u001b[38;5;241;43m.\u001b[39;49m\u001b[43mlower\u001b[49m\u001b[43m(\u001b[49m\u001b[43m)\u001b[49m\u001b[43m)\u001b[49m\n\u001b[1;32m    146\u001b[0m \u001b[38;5;28;01mexcept\u001b[39;00m (\u001b[38;5;167;01mStopIteration\u001b[39;00m):\n",
      "\u001b[0;31mStopIteration\u001b[0m: ",
      "\nDuring handling of the above exception, another exception occurred:\n",
      "\u001b[0;31mSpecificationException\u001b[0m                    Traceback (most recent call last)",
      "Cell \u001b[0;32mIn[18], line 6\u001b[0m\n\u001b[1;32m      1\u001b[0m \u001b[38;5;28;01mfrom\u001b[39;00m \u001b[38;5;21;01mplanet\u001b[39;00m \u001b[38;5;28;01mimport\u001b[39;00m order_request\n\u001b[1;32m      3\u001b[0m item_ids \u001b[38;5;241m=\u001b[39m items\n\u001b[1;32m      5\u001b[0m products \u001b[38;5;241m=\u001b[39m [\n\u001b[0;32m----> 6\u001b[0m     \u001b[43morder_request\u001b[49m\u001b[38;5;241;43m.\u001b[39;49m\u001b[43mproduct\u001b[49m\u001b[43m(\u001b[49m\u001b[43mitem_ids\u001b[49m\u001b[43m,\u001b[49m\u001b[43m \u001b[49m\u001b[38;5;124;43m'\u001b[39;49m\u001b[38;5;124;43mbasic_analytic_4b\u001b[39;49m\u001b[38;5;124;43m'\u001b[39;49m\u001b[43m,\u001b[49m\u001b[43m \u001b[49m\u001b[38;5;124;43m'\u001b[39;49m\u001b[38;5;124;43mPSScene\u001b[39;49m\u001b[38;5;124;43m'\u001b[39;49m\u001b[43m)\u001b[49m\n\u001b[1;32m      7\u001b[0m ]\n\u001b[1;32m      9\u001b[0m tools \u001b[38;5;241m=\u001b[39m [\n\u001b[1;32m     10\u001b[0m     order_request\u001b[38;5;241m.\u001b[39mreproject_tool(projection\u001b[38;5;241m=\u001b[39m\u001b[38;5;124m'\u001b[39m\u001b[38;5;124mEPSG:4326\u001b[39m\u001b[38;5;124m'\u001b[39m, kernel\u001b[38;5;241m=\u001b[39m\u001b[38;5;124m'\u001b[39m\u001b[38;5;124mcubic\u001b[39m\u001b[38;5;124m'\u001b[39m)\n\u001b[1;32m     11\u001b[0m ]\n\u001b[1;32m     13\u001b[0m request \u001b[38;5;241m=\u001b[39m order_request\u001b[38;5;241m.\u001b[39mbuild_request(\n\u001b[1;32m     14\u001b[0m     \u001b[38;5;124m'\u001b[39m\u001b[38;5;124mtest_order_sdk_method_2\u001b[39m\u001b[38;5;124m'\u001b[39m, products\u001b[38;5;241m=\u001b[39mproducts, tools\u001b[38;5;241m=\u001b[39mtools)\n",
      "File \u001b[0;32m~/anaconda3/lib/python3.10/site-packages/planet/order_request.py:118\u001b[0m, in \u001b[0;36mproduct\u001b[0;34m(item_ids, product_bundle, item_type, fallback_bundle)\u001b[0m\n\u001b[1;32m    101\u001b[0m \u001b[38;5;124;03m\"\"\"Product description for an order detail.\u001b[39;00m\n\u001b[1;32m    102\u001b[0m \n\u001b[1;32m    103\u001b[0m \u001b[38;5;124;03mParameters:\u001b[39;00m\n\u001b[0;32m   (...)\u001b[0m\n\u001b[1;32m    115\u001b[0m \u001b[38;5;124;03m        bundle or fallback bundle.\u001b[39;00m\n\u001b[1;32m    116\u001b[0m \u001b[38;5;124;03m\"\"\"\u001b[39;00m\n\u001b[1;32m    117\u001b[0m item_type \u001b[38;5;241m=\u001b[39m specs\u001b[38;5;241m.\u001b[39mvalidate_item_type(item_type)\n\u001b[0;32m--> 118\u001b[0m validated_product_bundle \u001b[38;5;241m=\u001b[39m \u001b[43mspecs\u001b[49m\u001b[38;5;241;43m.\u001b[39;49m\u001b[43mvalidate_bundle\u001b[49m\u001b[43m(\u001b[49m\u001b[43mitem_type\u001b[49m\u001b[43m,\u001b[49m\u001b[43m \u001b[49m\u001b[43mproduct_bundle\u001b[49m\u001b[43m)\u001b[49m\n\u001b[1;32m    120\u001b[0m \u001b[38;5;28;01mif\u001b[39;00m fallback_bundle \u001b[38;5;129;01mis\u001b[39;00m \u001b[38;5;129;01mnot\u001b[39;00m \u001b[38;5;28;01mNone\u001b[39;00m:\n\u001b[1;32m    121\u001b[0m     item_type \u001b[38;5;241m=\u001b[39m specs\u001b[38;5;241m.\u001b[39mvalidate_item_type(item_type)\n",
      "File \u001b[0;32m~/anaconda3/lib/python3.10/site-packages/planet/specs.py:64\u001b[0m, in \u001b[0;36mvalidate_bundle\u001b[0;34m(item_type, bundle)\u001b[0m\n\u001b[1;32m     62\u001b[0m \u001b[38;5;28;01mdef\u001b[39;00m \u001b[38;5;21mvalidate_bundle\u001b[39m(item_type, bundle):\n\u001b[1;32m     63\u001b[0m     all_product_bundles \u001b[38;5;241m=\u001b[39m get_product_bundles()\n\u001b[0;32m---> 64\u001b[0m     \u001b[43mvalidate_supported_bundles\u001b[49m\u001b[43m(\u001b[49m\u001b[43mitem_type\u001b[49m\u001b[43m,\u001b[49m\u001b[43m \u001b[49m\u001b[43mbundle\u001b[49m\u001b[43m,\u001b[49m\u001b[43m \u001b[49m\u001b[43mall_product_bundles\u001b[49m\u001b[43m)\u001b[49m\n\u001b[1;32m     65\u001b[0m     \u001b[38;5;28;01mreturn\u001b[39;00m _validate_field(bundle, all_product_bundles, \u001b[38;5;124m'\u001b[39m\u001b[38;5;124mproduct_bundle\u001b[39m\u001b[38;5;124m'\u001b[39m)\n",
      "File \u001b[0;32m~/anaconda3/lib/python3.10/site-packages/planet/specs.py:120\u001b[0m, in \u001b[0;36mvalidate_supported_bundles\u001b[0;34m(item_type, bundle, all_product_bundles)\u001b[0m\n\u001b[1;32m    117\u001b[0m     \u001b[38;5;28;01mif\u001b[39;00m item_type\u001b[38;5;241m.\u001b[39mlower() \u001b[38;5;129;01min\u001b[39;00m [x\u001b[38;5;241m.\u001b[39mlower() \u001b[38;5;28;01mfor\u001b[39;00m x \u001b[38;5;129;01min\u001b[39;00m availible_item_types]:\n\u001b[1;32m    118\u001b[0m         supported_bundles\u001b[38;5;241m.\u001b[39mappend(product_bundle)\n\u001b[0;32m--> 120\u001b[0m \u001b[38;5;28;01mreturn\u001b[39;00m \u001b[43m_validate_field\u001b[49m\u001b[43m(\u001b[49m\u001b[43mbundle\u001b[49m\u001b[43m,\u001b[49m\u001b[43m \u001b[49m\u001b[43msupported_bundles\u001b[49m\u001b[43m,\u001b[49m\u001b[43m \u001b[49m\u001b[38;5;124;43m'\u001b[39;49m\u001b[38;5;124;43mbundle\u001b[39;49m\u001b[38;5;124;43m'\u001b[39;49m\u001b[43m)\u001b[49m\n",
      "File \u001b[0;32m~/anaconda3/lib/python3.10/site-packages/planet/specs.py:104\u001b[0m, in \u001b[0;36m_validate_field\u001b[0;34m(value, supported, field_name)\u001b[0m\n\u001b[1;32m    102\u001b[0m \u001b[38;5;28;01mdef\u001b[39;00m \u001b[38;5;21m_validate_field\u001b[39m(value, supported, field_name):\n\u001b[1;32m    103\u001b[0m     \u001b[38;5;28;01mtry\u001b[39;00m:\n\u001b[0;32m--> 104\u001b[0m         value \u001b[38;5;241m=\u001b[39m \u001b[43mget_match\u001b[49m\u001b[43m(\u001b[49m\u001b[43mvalue\u001b[49m\u001b[43m,\u001b[49m\u001b[43m \u001b[49m\u001b[43msupported\u001b[49m\u001b[43m,\u001b[49m\u001b[43m \u001b[49m\u001b[43mfield_name\u001b[49m\u001b[43m)\u001b[49m\n\u001b[1;32m    105\u001b[0m     \u001b[38;5;28;01mexcept\u001b[39;00m (NoMatchException):\n\u001b[1;32m    106\u001b[0m         \u001b[38;5;28;01mraise\u001b[39;00m SpecificationException(value, supported, field_name)\n",
      "File \u001b[0;32m~/anaconda3/lib/python3.10/site-packages/planet/specs.py:147\u001b[0m, in \u001b[0;36mget_match\u001b[0;34m(test_entry, spec_entries, field_name)\u001b[0m\n\u001b[1;32m    144\u001b[0m     match \u001b[38;5;241m=\u001b[39m \u001b[38;5;28mnext\u001b[39m(e \u001b[38;5;28;01mfor\u001b[39;00m e \u001b[38;5;129;01min\u001b[39;00m spec_entries\n\u001b[1;32m    145\u001b[0m                  \u001b[38;5;28;01mif\u001b[39;00m e\u001b[38;5;241m.\u001b[39mlower() \u001b[38;5;241m==\u001b[39m test_entry\u001b[38;5;241m.\u001b[39mlower())\n\u001b[1;32m    146\u001b[0m \u001b[38;5;28;01mexcept\u001b[39;00m (\u001b[38;5;167;01mStopIteration\u001b[39;00m):\n\u001b[0;32m--> 147\u001b[0m     \u001b[38;5;28;01mraise\u001b[39;00m SpecificationException(test_entry, spec_entries, field_name)\n\u001b[1;32m    149\u001b[0m \u001b[38;5;28;01mreturn\u001b[39;00m match\n",
      "\u001b[0;31mSpecificationException\u001b[0m: bundle - 'basic_analytic_4b' is not one of 'analytic_udm2', 'analytic_3b_udm2', 'analytic_8b_udm2', 'visual', 'basic_analytic_udm2', 'basic_analytic_8b_udm2', 'analytic_sr_udm2', 'analytic_8b_sr_udm2'."
     ]
    }
   ],
   "source": [
    "from planet import order_request\n",
    "\n",
    "item_ids = items\n",
    "\n",
    "products = [\n",
    "    order_request.product(item_ids, 'basic_analytic_4b', 'PSScene')\n",
    "]\n",
    "\n",
    "tools = [\n",
    "    order_request.reproject_tool(projection='EPSG:4326', kernel='cubic')\n",
    "]\n",
    "\n",
    "request = order_request.build_request(\n",
    "    'test_order_sdk_method_2', products=products, tools=tools)"
   ]
  },
  {
   "cell_type": "markdown",
   "metadata": {},
   "source": [
    "# create order\n",
    "Log in to planet at planet.com and check status of download.\n",
    "\n",
    "**Note: this block appears to run indefinitely. By checking the status on your browser at planet.com, you will see when it has completed, and you can then stop this block and continue on. You can also check the directory in which this jupyter notebook is in and you will see a new folder with an obscure name consisting of numbers and characters."
   ]
  },
  {
   "cell_type": "code",
   "execution_count": 12,
   "metadata": {
    "scrolled": true
   },
   "outputs": [
    {
     "name": "stderr",
     "output_type": "stream",
     "text": [
      "16:43 - order 3a4708ad-fac1-4b5a-8714-2583a2e160ce - state: running\n"
     ]
    },
    {
     "ename": "ClientError",
     "evalue": "Maximum number of attempts (200) reached.",
     "output_type": "error",
     "traceback": [
      "\u001b[0;31m---------------------------------------------------------------------------\u001b[0m",
      "\u001b[0;31mClientError\u001b[0m                               Traceback (most recent call last)",
      "Cell \u001b[0;32mIn[12], line 21\u001b[0m\n\u001b[1;32m     18\u001b[0m         \u001b[38;5;28;01mawait\u001b[39;00m cl\u001b[38;5;241m.\u001b[39mdownload_order(order[\u001b[38;5;124m'\u001b[39m\u001b[38;5;124mid\u001b[39m\u001b[38;5;124m'\u001b[39m])\n\u001b[1;32m     20\u001b[0m \u001b[38;5;66;03m# remember: \"await\" to run the thing\u001b[39;00m\n\u001b[0;32m---> 21\u001b[0m \u001b[38;5;28;01mawait\u001b[39;00m create_poll_and_download()\n",
      "Cell \u001b[0;32mIn[12], line 15\u001b[0m, in \u001b[0;36mcreate_poll_and_download\u001b[0;34m()\u001b[0m\n\u001b[1;32m     12\u001b[0m     bar\u001b[38;5;241m.\u001b[39mupdate(state\u001b[38;5;241m=\u001b[39m\u001b[38;5;124m'\u001b[39m\u001b[38;5;124mcreated\u001b[39m\u001b[38;5;124m'\u001b[39m, order_id\u001b[38;5;241m=\u001b[39morder[\u001b[38;5;124m'\u001b[39m\u001b[38;5;124mid\u001b[39m\u001b[38;5;124m'\u001b[39m])\n\u001b[1;32m     14\u001b[0m     \u001b[38;5;66;03m# poll...poll...poll...\u001b[39;00m\n\u001b[0;32m---> 15\u001b[0m     \u001b[38;5;28;01mawait\u001b[39;00m cl\u001b[38;5;241m.\u001b[39mwait(order[\u001b[38;5;124m'\u001b[39m\u001b[38;5;124mid\u001b[39m\u001b[38;5;124m'\u001b[39m], callback\u001b[38;5;241m=\u001b[39mbar\u001b[38;5;241m.\u001b[39mupdate_state)\n\u001b[1;32m     17\u001b[0m \u001b[38;5;66;03m# if we get here that means the order completed. Yay! Download the files.\u001b[39;00m\n\u001b[1;32m     18\u001b[0m \u001b[38;5;28;01mawait\u001b[39;00m cl\u001b[38;5;241m.\u001b[39mdownload_order(order[\u001b[38;5;124m'\u001b[39m\u001b[38;5;124mid\u001b[39m\u001b[38;5;124m'\u001b[39m])\n",
      "File \u001b[0;32m~/anaconda3/lib/python3.10/site-packages/planet/clients/orders.py:460\u001b[0m, in \u001b[0;36mOrdersClient.wait\u001b[0;34m(self, order_id, state, delay, max_attempts, callback)\u001b[0m\n\u001b[1;32m    457\u001b[0m     num_attempts \u001b[38;5;241m+\u001b[39m\u001b[38;5;241m=\u001b[39m \u001b[38;5;241m1\u001b[39m\n\u001b[1;32m    459\u001b[0m \u001b[38;5;28;01mif\u001b[39;00m max_attempts \u001b[38;5;129;01mand\u001b[39;00m num_attempts \u001b[38;5;241m>\u001b[39m\u001b[38;5;241m=\u001b[39m max_attempts:\n\u001b[0;32m--> 460\u001b[0m     \u001b[38;5;28;01mraise\u001b[39;00m exceptions\u001b[38;5;241m.\u001b[39mClientError(\n\u001b[1;32m    461\u001b[0m         \u001b[38;5;124mf\u001b[39m\u001b[38;5;124m'\u001b[39m\u001b[38;5;124mMaximum number of attempts (\u001b[39m\u001b[38;5;132;01m{\u001b[39;00mmax_attempts\u001b[38;5;132;01m}\u001b[39;00m\u001b[38;5;124m) reached.\u001b[39m\u001b[38;5;124m'\u001b[39m)\n\u001b[1;32m    463\u001b[0m \u001b[38;5;28;01mreturn\u001b[39;00m current_state\n",
      "\u001b[0;31mClientError\u001b[0m: Maximum number of attempts (200) reached."
     ]
    }
   ],
   "source": [
    "from planet import reporting, Session, OrdersClient\n",
    "\n",
    "# remember: \"async def\" to create the async coroutine\n",
    "async def create_poll_and_download():\n",
    "    async with Session(auth=auth) as sess:\n",
    "        cl = OrdersClient(sess)\n",
    "\n",
    "        # Use \"reporting\" to manage polling for order status\n",
    "        with reporting.StateBar(state='creating') as bar:\n",
    "            # create order via Orders client\n",
    "            order = await cl.create_order(request)\n",
    "            bar.update(state='created', order_id=order['id'])\n",
    "\n",
    "            # poll...poll...poll...\n",
    "            await cl.wait(order['id'], callback=bar.update_state)\n",
    "\n",
    "        # if we get here that means the order completed. Yay! Download the files.\n",
    "        await cl.download_order(order['id'])\n",
    "\n",
    "# remember: \"await\" to run the thing\n",
    "await create_poll_and_download()"
   ]
  }
 ],
 "metadata": {
  "kernelspec": {
   "display_name": "Python 3 (ipykernel)",
   "language": "python",
   "name": "python3"
  },
  "language_info": {
   "codemirror_mode": {
    "name": "ipython",
    "version": 3
   },
   "file_extension": ".py",
   "mimetype": "text/x-python",
   "name": "python",
   "nbconvert_exporter": "python",
   "pygments_lexer": "ipython3",
   "version": "3.10.9"
  }
 },
 "nbformat": 4,
 "nbformat_minor": 4
}
